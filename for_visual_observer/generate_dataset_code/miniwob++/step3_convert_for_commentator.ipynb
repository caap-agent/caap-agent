{
 "cells": [
  {
   "cell_type": "code",
   "execution_count": 1,
   "metadata": {},
   "outputs": [],
   "source": [
    "import os\n",
    "import re\n",
    "import json\n",
    "from PIL import Image\n",
    "\n",
    "from element_type import TYPE_DICT, KEYS_USED\n",
    "\n",
    "DICT_TYPE = {v: k for k, v in TYPE_DICT.items()}  # converted TYPE_DICT\n",
    "\n",
    "def read_text_file(file_path):\n",
    "    content = None\n",
    "    for encoding in ['cp949', 'utf-16', 'utf-8']:\n",
    "        try:\n",
    "            with open(file_path, 'r', encoding=encoding) as f:\n",
    "                content = f.read()\n",
    "        except Exception:\n",
    "            pass\n",
    "\n",
    "    if content is None:\n",
    "        raise RuntimeError(f\"Failed to read {file_path}\")\n",
    "    return content"
   ]
  },
  {
   "cell_type": "code",
   "execution_count": 2,
   "metadata": {},
   "outputs": [],
   "source": [
    "key_list = list(TYPE_DICT.keys())\n",
    "key_list.sort()\n",
    "class_list_for_yolo = []\n",
    "for key in key_list:\n",
    "    class_list_for_yolo.append(TYPE_DICT[key])"
   ]
  },
  {
   "cell_type": "code",
   "execution_count": 3,
   "metadata": {},
   "outputs": [],
   "source": [
    "duplicated_image_removed_list = './unique_imgs.json'\n",
    "assert os.path.isfile(duplicated_image_removed_list)\n",
    "with open(duplicated_image_removed_list, 'r') as f:\n",
    "    unique_imgs_data = f.read()\n",
    "unique_imgs_data = json.loads(unique_imgs_data)"
   ]
  },
  {
   "cell_type": "code",
   "execution_count": 4,
   "metadata": {},
   "outputs": [],
   "source": [
    "dataset_name = 'miniwob_dataset_test'\n",
    "train_label_path = f'../../datasets/{dataset_name}/commentator_labels/train2024'\n",
    "valid_label_path = f'../../datasets/{dataset_name}/commentator_labels/valid2024'\n",
    "os.makedirs(train_label_path, exist_ok=True)\n",
    "os.makedirs(valid_label_path, exist_ok=True)"
   ]
  },
  {
   "cell_type": "code",
   "execution_count": 5,
   "metadata": {},
   "outputs": [],
   "source": [
    "def save_data(data_list, save_dir_path, save_name):\n",
    "    file_full_path = os.path.join(save_dir_path, save_name)\n",
    "    with open(file_full_path,  'w') as f:\n",
    "        for label_data in data_list:\n",
    "            f.write(label_data+'\\n')"
   ]
  },
  {
   "cell_type": "code",
   "execution_count": null,
   "metadata": {},
   "outputs": [],
   "source": [
    "key_count_dict_train = {key: 0 for key in class_list_for_yolo}\n",
    "key_count_dict_valid = {key: 0 for key in class_list_for_yolo}\n",
    "\n",
    "search_button_count = 0\n",
    "for task_category_key in unique_imgs_data.keys():\n",
    "    unique_image_list = [action_json for action_json in unique_imgs_data[task_category_key]]\n",
    "    for image_fullpath in unique_image_list:\n",
    "        annotation_fullpath = image_fullpath[:-3]+\"json\"\n",
    "\n",
    "        original_image = Image.open(image_fullpath)\n",
    "        # with Utterance offset set 0\n",
    "        y_offset = 0\n",
    "\n",
    "        json_data = read_text_file(annotation_fullpath)\n",
    "        element_list = json.loads(json_data)\n",
    "\n",
    "        # check seed for split train/valid\n",
    "        match = re.match(r'^(.+?)_([0-9]+)__', annotation_fullpath)\n",
    "        if match:\n",
    "            task_name = match.group(1)\n",
    "            seeds_digits = match.group(2)\n",
    "\n",
    "        save_label_path = train_label_path\n",
    "        key_count_dict = key_count_dict_train\n",
    "        if seeds_digits in ['1000']:\n",
    "            save_label_path = valid_label_path\n",
    "            key_count_dict = key_count_dict_valid\n",
    "\n",
    "        save_image_name = f\"{os.path.split(task_name)[-1]}_{seeds_digits}_{os.path.split(image_fullpath)[-1]}\"\n",
    "        \n",
    "        converted_datalist = []\n",
    "        datalist = []\n",
    "        for element in element_list:\n",
    "            if 'type' in element.keys():\n",
    "                if 'subtype' in element and element['subtype'] == 'search':\n",
    "                    search_button_count+=1\n",
    "                    continue                    \n",
    "                type_val = TYPE_DICT[element[\"type\"]]\n",
    "                keys_used = KEYS_USED[type_val]\n",
    "\n",
    "                fix_format_element = {}\n",
    "                for pk in keys_used:\n",
    "                    if pk in element.keys():\n",
    "                        fix_format_element[pk] = element[pk]\n",
    "                        if pk == 'coords':\n",
    "                            x1, y1, x2, y2 = fix_format_element[pk]\n",
    "                            fix_format_element[pk] = [x1, y1 - y_offset, x2, y2 - y_offset]\n",
    "                    else:\n",
    "                        if pk == 'text':\n",
    "                            fix_format_element[pk] = \"\"\n",
    "                        elif pk == 'coords':\n",
    "                            raise Exception(f\"data soomething wrong : {element}\")\n",
    "                        elif pk in ['focused','highlighted']:\n",
    "                            fix_format_element[pk] = \"False\"\n",
    "                        else:\n",
    "                            raise Exception(f\"data soomething  pk ?  : {pk}\")\n",
    "                datalist.append(json.dumps(fix_format_element))\n",
    "                fix_format_element.pop('coords')\n",
    "\n",
    "                fix_format_element['type'] = TYPE_DICT[fix_format_element['type']]\n",
    "                key_count_dict[fix_format_element['type']] += 1\n",
    "                converted_datalist.append(json.dumps(fix_format_element))\n",
    "            else:\n",
    "                raise Exception(f\"Element info invalid : {element}\")\n",
    "        if len(converted_datalist) == 0:\n",
    "            print(f\"Check data : {annotation_fullpath}\")\n",
    "        else:            \n",
    "            save_label_name = f\"{os.path.splitext(save_image_name)[0]}.txt\"\n",
    "            save_data(converted_datalist, save_label_path, save_label_name)\n",
    "            save_label_name = f\"{os.path.splitext(save_image_name)[0]}_annotation.txt\" # original\n",
    "            save_data(datalist, save_label_path, save_label_name)"
   ]
  },
  {
   "cell_type": "code",
   "execution_count": null,
   "metadata": {},
   "outputs": [],
   "source": [
    "print(f\"nc: {len(class_list_for_yolo)}\")\n",
    "print(f\"names: {class_list_for_yolo}\")"
   ]
  },
  {
   "cell_type": "code",
   "execution_count": null,
   "metadata": {},
   "outputs": [],
   "source": []
  }
 ],
 "metadata": {
  "kernelspec": {
   "display_name": "Python 3",
   "language": "python",
   "name": "python3"
  },
  "language_info": {
   "codemirror_mode": {
    "name": "ipython",
    "version": 3
   },
   "file_extension": ".py",
   "mimetype": "text/x-python",
   "name": "python",
   "nbconvert_exporter": "python",
   "pygments_lexer": "ipython3",
   "version": "3.9.12"
  }
 },
 "nbformat": 4,
 "nbformat_minor": 2
}
