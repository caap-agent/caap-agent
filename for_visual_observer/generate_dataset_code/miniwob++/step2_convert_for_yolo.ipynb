{
 "cells": [
  {
   "cell_type": "code",
   "execution_count": 1,
   "metadata": {},
   "outputs": [],
   "source": [
    "import os\n",
    "import re\n",
    "import json\n",
    "from PIL import Image\n",
    "\n",
    "from element_type import TYPE_DICT\n",
    "\n",
    "DICT_TYPE = {v: k for k, v in TYPE_DICT.items()}  # converted TYPE_DICT\n",
    "\n",
    "def read_text_file(file_path):\n",
    "    content = None\n",
    "    for encoding in ['cp949', 'utf-16', 'utf-8']:\n",
    "        try:\n",
    "            with open(file_path, 'r', encoding=encoding) as f:\n",
    "                content = f.read()\n",
    "        except Exception:\n",
    "            pass\n",
    "\n",
    "    if content is None:\n",
    "        raise RuntimeError(f\"Failed to read {file_path}\")\n",
    "    return content\n"
   ]
  },
  {
   "cell_type": "markdown",
   "metadata": {},
   "source": [
    "## Convert coordinate ( annotated -> yolo )\n",
    "#### Annotated coordinates: (top left x, top left y, bottom right x, bottom right y)\n",
    "\n",
    "> #### -> YOLO coordinate values: Normalized (center X, center Y, width, height)"
   ]
  },
  {
   "cell_type": "code",
   "execution_count": 2,
   "metadata": {},
   "outputs": [],
   "source": [
    "def xyxy_to_normalized_mxywh(xyxy_bbox, image_width, image_height, y_offset):\n",
    "    if image_width <= 0 or image_height <= 0:\n",
    "        raise Exception(f'Image info invalid : {image_width} {image_height}')\n",
    "    x1, y1, x2, y2 = xyxy_bbox\n",
    "    y1 -= y_offset\n",
    "    y2 -= y_offset\n",
    "    width = x2- x1\n",
    "    height = y2 - y1\n",
    "    mx = x1 + width * 0.5\n",
    "    my = y1 + height * 0.5\n",
    "    return mx / image_width, my / image_height, width / image_width, height / image_height"
   ]
  },
  {
   "cell_type": "code",
   "execution_count": 3,
   "metadata": {},
   "outputs": [],
   "source": [
    "key_list = list(TYPE_DICT.keys())\n",
    "key_list.sort()\n",
    "class_list_for_yolo = []\n",
    "for key in key_list:\n",
    "    class_list_for_yolo.append(TYPE_DICT[key])"
   ]
  },
  {
   "cell_type": "markdown",
   "metadata": {},
   "source": [
    "### Run the notebook in step1 first\n",
    "\n",
    "### Check for the existence of ./unique_imgs.json"
   ]
  },
  {
   "cell_type": "code",
   "execution_count": 4,
   "metadata": {},
   "outputs": [],
   "source": [
    "duplicated_image_removed_list = './unique_imgs.json'\n",
    "assert os.path.isfile(duplicated_image_removed_list)\n",
    "with open(duplicated_image_removed_list, 'r') as f:\n",
    "    unique_imgs_data = f.read()\n",
    "unique_imgs_data = json.loads(unique_imgs_data)"
   ]
  },
  {
   "cell_type": "code",
   "execution_count": 6,
   "metadata": {},
   "outputs": [],
   "source": [
    "dataset_name = 'miniwob_dataset_test'\n",
    "train_image_path = f'../../datasets/{dataset_name}/images/train2024'\n",
    "valid_image_path = f'../../datasets/{dataset_name}/images/valid2024'\n",
    "train_label_path = f'../../datasets/{dataset_name}/labels/train2024'\n",
    "valid_label_path = f'../../datasets/{dataset_name}/labels/valid2024'\n",
    "os.makedirs(train_image_path, exist_ok=True)\n",
    "os.makedirs(valid_image_path, exist_ok=True)\n",
    "os.makedirs(train_label_path, exist_ok=True)\n",
    "os.makedirs(valid_label_path, exist_ok=True)"
   ]
  },
  {
   "cell_type": "code",
   "execution_count": 7,
   "metadata": {},
   "outputs": [],
   "source": [
    "def save_yolo_data(data_list, save_dir_path, save_name):\n",
    "    file_full_path = os.path.join(save_dir_path, save_name)\n",
    "    with open(file_full_path,  'w') as f:\n",
    "        for label_data in data_list:\n",
    "            f.write(label_data+'\\n')"
   ]
  },
  {
   "cell_type": "code",
   "execution_count": 8,
   "metadata": {},
   "outputs": [],
   "source": [
    "key_count_dict_train = {key: 0 for key in class_list_for_yolo}\n",
    "key_count_dict_valid = {key: 0 for key in class_list_for_yolo}\n",
    "\n",
    "search_button_count = 0\n",
    "for task_category_key in unique_imgs_data.keys():\n",
    "    unique_image_list = [action_json for action_json in unique_imgs_data[task_category_key]]\n",
    "    for image_fullpath in unique_image_list:\n",
    "        annotation_fullpath = image_fullpath[:-3]+\"json\"\n",
    "\n",
    "        original_image = Image.open(image_fullpath)\n",
    "        # with Utterance offset set 0\n",
    "        y_offset = 0\n",
    "        target_image = original_image.crop((0, y_offset, 160,210))\n",
    "\n",
    "        json_data = read_text_file(annotation_fullpath)\n",
    "        element_list = json.loads(json_data)\n",
    "\n",
    "        # check seed for split train/valid\n",
    "        match = re.match(r'^(.+?)_([0-9]+)__', annotation_fullpath)\n",
    "        if match:\n",
    "            task_name = match.group(1)\n",
    "            seeds_digits = match.group(2)\n",
    "        \n",
    "        save_label_path = train_label_path\n",
    "        save_image_path = train_image_path\n",
    "        key_count_dict = key_count_dict_train\n",
    "        if seeds_digits in ['1000']:\n",
    "            save_label_path = valid_label_path\n",
    "            save_image_path = valid_image_path\n",
    "            key_count_dict = key_count_dict_valid\n",
    "\n",
    "        save_image_name = f\"{os.path.split(task_name)[-1]}_{seeds_digits}_{os.path.split(image_fullpath)[-1]}\"\n",
    "    \n",
    "        image_width, image_height = target_image.size\n",
    "        converted_datalist = []\n",
    "        for element in element_list:\n",
    "            converted_coords = xyxy_to_normalized_mxywh(element['coords'], image_width, image_height, y_offset)\n",
    "            if 'type' in element.keys():\n",
    "                if 'subtype' in element and element['subtype'] == 'search':\n",
    "                    search_button_count+=1\n",
    "                    continue                    \n",
    "                yolo_class_idx = class_list_for_yolo.index(TYPE_DICT[element['type']])\n",
    "                key_count_dict[TYPE_DICT[element['type']]] += 1\n",
    "                converted_datalist.append(f\"{yolo_class_idx} {converted_coords[0]} {converted_coords[1]} {converted_coords[2]} {converted_coords[3]}\")\n",
    "            else:\n",
    "                raise Exception(f\"Element info invalid : {element}\")\n",
    "        if len(converted_datalist) == 0:\n",
    "            print(f\"Check data : {annotation_fullpath}\")\n",
    "        else:\n",
    "            save_label_name = f\"{os.path.splitext(save_image_name)[0]}.txt\"\n",
    "            save_yolo_data(converted_datalist, save_label_path, save_label_name)\n",
    "            target_image.save(os.path.join(save_image_path, save_image_name))\n",
    "    \n",
    "\n"
   ]
  },
  {
   "cell_type": "code",
   "execution_count": null,
   "metadata": {},
   "outputs": [],
   "source": [
    "print(f\"nc: {len(class_list_for_yolo)}\")\n",
    "print(f\"names: {class_list_for_yolo}\")"
   ]
  }
 ],
 "metadata": {
  "kernelspec": {
   "display_name": "Python 3",
   "language": "python",
   "name": "python3"
  },
  "language_info": {
   "codemirror_mode": {
    "name": "ipython",
    "version": 3
   },
   "file_extension": ".py",
   "mimetype": "text/x-python",
   "name": "python",
   "nbconvert_exporter": "python",
   "pygments_lexer": "ipython3",
   "version": "3.9.12"
  }
 },
 "nbformat": 4,
 "nbformat_minor": 2
}
